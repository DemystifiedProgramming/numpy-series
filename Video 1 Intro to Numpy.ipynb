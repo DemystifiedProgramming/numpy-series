{
 "cells": [
  {
   "cell_type": "markdown",
   "metadata": {},
   "source": [
    "<h1 style=\"font-family: Verdana\">What is Numpy?</h1>\n",
    "<br>\n",
    "<div style=\"font-family: Georgia\">\n",
    "        <p>Numpy is a third-party Python library written in C and used for various applications in mathematics and science. They are used in matrix operations, building intelligent machine-learning systems, statistical analyses, probabilistic and random simulations, and many others that one could research. They are far superior than using Python lists for large array operations because Numpy is optimized to perform much quicker than a bunch of Python for loops iterating through lists.</p>\n",
    "        <br>\n",
    "        <p>For more visit <a style=\"font-family: Georgia\" href=\"https://numpy.org/doc/stable/user/whatisnumpy.html\" target=\"_blank\">numpy.org</a></p>\n",
    "</div>"
   ]
  },
  {
   "cell_type": "markdown",
   "metadata": {},
   "source": [
    "<h1 style=\"font-family: Verdana\">Jupyter Notebooks</h1>\n",
    "<br>\n",
    "<div style=\"font-family: Georgia\">\n",
    "    <p>Not too familiar with Jupyter Notebooks and their interface? Well that's no biggie. Head <a href=\"https://youtu.be/lacN9P16ZJQ\" style=\"font-family: Georgia\" target=\"_blank\">here</a> to a 15 minute video by us that will teach you the basics of Jupyter!</p></div>"
   ]
  },
  {
   "cell_type": "markdown",
   "metadata": {},
   "source": [
    "<h1 style=\"font-family: Verdana\">Interactive Python Widgets</h1>\n",
    "<br>\n",
    "<div style=\"font-family: Georgia\">\n",
    "    <p>For the duration of this notebook you will need ipywidgets installed on your machine. To install it, just type</p>\n",
    "    <img src=\"https://github.com/DemystifiedProgramming/basics-of-jupyter/blob/master/pictures/ipywidget%20cmd.JPG?raw=true\" alt=\"image load failed\">\n",
    "    <p>in your command line and you're all set. If you don't have pip, fear not! Click <a href=\"https://www.youtube.com/watch?v=mFqdeX1C-8M\" style=\"font-family: Georgia\" target=\"_blank\">here</a> for a helpful YouTube video to walk you through getting pip installed. You can also run the below code which will install it as well!</p>\n",
    "</div>"
   ]
  },
  {
   "cell_type": "code",
   "execution_count": null,
   "metadata": {},
   "outputs": [],
   "source": [
    "# install ipywidgets! If you already have it installed it will say\n",
    "# Requirement already satisfied\n",
    "!pip install ipywidgets"
   ]
  },
  {
   "cell_type": "code",
   "execution_count": null,
   "metadata": {},
   "outputs": [],
   "source": [
    "# import ipywidgets!\n",
    "import ipywidgets as widgets"
   ]
  },
  {
   "cell_type": "markdown",
   "metadata": {},
   "source": [
    "<h1 style=\"font-family: Verdana\">Visualizing Numpy Arrays</h1>"
   ]
  },
  {
   "cell_type": "code",
   "execution_count": null,
   "metadata": {},
   "outputs": [],
   "source": []
  }
 ],
 "metadata": {
  "kernelspec": {
   "display_name": "Python 3",
   "language": "python",
   "name": "python3"
  },
  "language_info": {
   "codemirror_mode": {
    "name": "ipython",
    "version": 3
   },
   "file_extension": ".py",
   "mimetype": "text/x-python",
   "name": "python",
   "nbconvert_exporter": "python",
   "pygments_lexer": "ipython3",
   "version": "3.8.2"
  }
 },
 "nbformat": 4,
 "nbformat_minor": 4
}
